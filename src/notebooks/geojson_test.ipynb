{
    "cells": [
        {
            "cell_type": "code",
            "execution_count": 1,
            "metadata": {},
            "outputs": [],
            "source": [
                "import os\n",
                "import sys\n",
                "\n",
                "# Changes the current path to find the source files\n",
                "current_dir = os.getcwd()\n",
                "while current_dir != os.path.abspath(\"../src\"):\n",
                "    os.chdir(\"..\")\n",
                "    current_dir = os.getcwd()\n",
                "sys.path.append(os.path.abspath(\"Efficient-Computing/Detection/Gold-YOLO\"))"
            ]
        },
        {
            "cell_type": "code",
            "execution_count": 2,
            "metadata": {},
            "outputs": [],
            "source": [
                "import geojson\n",
                "from geojson_conversions import (\n",
                "    bboxes_to_geojson_feature_collection,\n",
                "    save_geojson,\n",
                "    open_geojson,\n",
                "    extract_bboxes_geojson,\n",
                "    merge_qgis_geojson_annotations,\n",
                "    bbox_to_geojson_polygon,\n",
                "    geojson_add_area_of_interest,\n",
                ")\n",
                "from box import Box"
            ]
        },
        {
            "cell_type": "code",
            "execution_count": 3,
            "metadata": {},
            "outputs": [],
            "source": [
                "file_path = \"../data/annotations/qgis/Tree.geojson\"\n",
                "label_all = \"Tree\"\n",
                "label_attribute_name = None\n",
                "\n",
                "feature_coll = open_geojson(file_path)\n",
                "assert isinstance(feature_coll, geojson.FeatureCollection)\n",
                "boxes, labels, scores, ids = extract_bboxes_geojson(\n",
                "    feature_coll, label_attribute_name, label_all=label_all\n",
                ")\n",
                "geo_features = bboxes_to_geojson_feature_collection(boxes, labels, scores, ids)\n",
                "save_geojson(geo_features, \"../geojson_test.geojson\")"
            ]
        },
        {
            "cell_type": "code",
            "execution_count": 4,
            "metadata": {},
            "outputs": [],
            "source": [
                "input_path = \"../data/annotations/qgis\"\n",
                "output_path = \"../data/annotations/full/122000_484000.geojson\"\n",
                "merge_qgis_geojson_annotations(input_path, output_path)\n",
                "\n",
                "feature_coll = open_geojson(output_path)\n",
                "assert isinstance(feature_coll, geojson.FeatureCollection)\n",
                "geojson_add_area_of_interest(\n",
                "    feature_coll, bbox_to_geojson_polygon(Box(122000, 483000, 123000, 484000))\n",
                ")\n",
                "save_geojson(feature_coll, output_path)"
            ]
        },
        {
            "cell_type": "code",
            "execution_count": 5,
            "metadata": {},
            "outputs": [
                {
                    "name": "stdout",
                    "output_type": "stream",
                    "text": [
                        "122000.0\n",
                        "483000.0\n",
                        "Download skipped: there is already a file at '/home/alexandre/Documents/tree-segmentation/data/images/full/2023_122000_484000_RGB_hrl.tif'.\n"
                    ]
                }
            ],
            "source": [
                "from rgb_preprocessing import download_rgb_image_from_polygon\n",
                "from shapely.geometry import Polygon\n",
                "\n",
                "annotations = open_geojson(output_path)\n",
                "\n",
                "download_rgb_image_from_polygon(annotations[\"bbox\"])"
            ]
        },
        {
            "cell_type": "code",
            "execution_count": 6,
            "metadata": {},
            "outputs": [
                {
                    "name": "stdout",
                    "output_type": "stream",
                    "text": [
                        "{\"coordinates\": [[[122066.066835, 484003.472379], [122068.993039, 484003.004186], [122072.114323, 484000.234046], [122072.816612, 483995.708184], [122071.685147, 483989.933808], [122069.57828, 483988.33415], [122064.545209, 483988.373166], [122062.984567, 483991.065274], [122061.931134, 483997.112762], [122062.945551, 484002.262881], [122066.066835, 484003.472379]]], \"type\": \"Polygon\"}\n"
                    ]
                },
                {
                    "ename": "TypeError",
                    "evalue": "float() argument must be a string or a real number, not 'list'",
                    "output_type": "error",
                    "traceback": [
                        "\u001b[0;31m---------------------------------------------------------------------------\u001b[0m",
                        "\u001b[0;31mTypeError\u001b[0m                                 Traceback (most recent call last)",
                        "Cell \u001b[0;32mIn[6], line 6\u001b[0m\n\u001b[1;32m      4\u001b[0m \u001b[38;5;66;03m# Load your GeoJSON polygons\u001b[39;00m\n\u001b[1;32m      5\u001b[0m \u001b[38;5;28mprint\u001b[39m(annotations[\u001b[38;5;124m\"\u001b[39m\u001b[38;5;124mfeatures\u001b[39m\u001b[38;5;124m\"\u001b[39m][\u001b[38;5;241m0\u001b[39m][\u001b[38;5;124m\"\u001b[39m\u001b[38;5;124mgeometry\u001b[39m\u001b[38;5;124m\"\u001b[39m])\n\u001b[0;32m----> 6\u001b[0m polygon1 \u001b[38;5;241m=\u001b[39m \u001b[43mPolygon\u001b[49m\u001b[43m(\u001b[49m\u001b[43mannotations\u001b[49m\u001b[43m[\u001b[49m\u001b[38;5;124;43m\"\u001b[39;49m\u001b[38;5;124;43mfeatures\u001b[39;49m\u001b[38;5;124;43m\"\u001b[39;49m\u001b[43m]\u001b[49m\u001b[43m[\u001b[49m\u001b[38;5;241;43m0\u001b[39;49m\u001b[43m]\u001b[49m\u001b[43m[\u001b[49m\u001b[38;5;124;43m\"\u001b[39;49m\u001b[38;5;124;43mgeometry\u001b[39;49m\u001b[38;5;124;43m\"\u001b[39;49m\u001b[43m]\u001b[49m\u001b[43m[\u001b[49m\u001b[38;5;124;43m\"\u001b[39;49m\u001b[38;5;124;43mcoordinates\u001b[39;49m\u001b[38;5;124;43m\"\u001b[39;49m\u001b[43m]\u001b[49m\u001b[43m)\u001b[49m\n\u001b[1;32m      7\u001b[0m polygon2 \u001b[38;5;241m=\u001b[39m Polygon(annotations[\u001b[38;5;124m\"\u001b[39m\u001b[38;5;124mfeatures\u001b[39m\u001b[38;5;124m\"\u001b[39m][\u001b[38;5;241m1\u001b[39m][\u001b[38;5;124m\"\u001b[39m\u001b[38;5;124mgeometry\u001b[39m\u001b[38;5;124m\"\u001b[39m][\u001b[38;5;124m\"\u001b[39m\u001b[38;5;124mcoordinates\u001b[39m\u001b[38;5;124m\"\u001b[39m])\n\u001b[1;32m      9\u001b[0m \u001b[38;5;66;03m# Convert polygons to WKT for easier manipulation\u001b[39;00m\n",
                        "File \u001b[0;32m~/miniforge3/envs/tree-segment/lib/python3.12/site-packages/shapely/geometry/polygon.py:230\u001b[0m, in \u001b[0;36mPolygon.__new__\u001b[0;34m(self, shell, holes)\u001b[0m\n\u001b[1;32m    228\u001b[0m     \u001b[38;5;28;01mreturn\u001b[39;00m shell\n\u001b[1;32m    229\u001b[0m \u001b[38;5;28;01melse\u001b[39;00m:\n\u001b[0;32m--> 230\u001b[0m     shell \u001b[38;5;241m=\u001b[39m \u001b[43mLinearRing\u001b[49m\u001b[43m(\u001b[49m\u001b[43mshell\u001b[49m\u001b[43m)\u001b[49m\n\u001b[1;32m    232\u001b[0m \u001b[38;5;28;01mif\u001b[39;00m holes \u001b[38;5;129;01mis\u001b[39;00m \u001b[38;5;129;01mnot\u001b[39;00m \u001b[38;5;28;01mNone\u001b[39;00m:\n\u001b[1;32m    233\u001b[0m     \u001b[38;5;28;01mif\u001b[39;00m \u001b[38;5;28mlen\u001b[39m(holes) \u001b[38;5;241m==\u001b[39m \u001b[38;5;241m0\u001b[39m:\n\u001b[1;32m    234\u001b[0m         \u001b[38;5;66;03m# shapely constructor cannot handle holes=[]\u001b[39;00m\n",
                        "File \u001b[0;32m~/miniforge3/envs/tree-segment/lib/python3.12/site-packages/shapely/geometry/polygon.py:93\u001b[0m, in \u001b[0;36mLinearRing.__new__\u001b[0;34m(self, coordinates)\u001b[0m\n\u001b[1;32m     90\u001b[0m     \u001b[38;5;28;01melse\u001b[39;00m:\n\u001b[1;32m     91\u001b[0m         \u001b[38;5;28;01mreturn\u001b[39;00m [\u001b[38;5;28mfloat\u001b[39m(c) \u001b[38;5;28;01mfor\u001b[39;00m c \u001b[38;5;129;01min\u001b[39;00m o]\n\u001b[0;32m---> 93\u001b[0m coordinates \u001b[38;5;241m=\u001b[39m np\u001b[38;5;241m.\u001b[39marray([\u001b[43m_coords\u001b[49m\u001b[43m(\u001b[49m\u001b[43mo\u001b[49m\u001b[43m)\u001b[49m \u001b[38;5;28;01mfor\u001b[39;00m o \u001b[38;5;129;01min\u001b[39;00m coordinates])\n\u001b[1;32m     94\u001b[0m \u001b[38;5;28;01mif\u001b[39;00m \u001b[38;5;129;01mnot\u001b[39;00m np\u001b[38;5;241m.\u001b[39missubdtype(coordinates\u001b[38;5;241m.\u001b[39mdtype, np\u001b[38;5;241m.\u001b[39mnumber):\n\u001b[1;32m     95\u001b[0m     \u001b[38;5;66;03m# conversion of coords to 2D array failed, this might be due\u001b[39;00m\n\u001b[1;32m     96\u001b[0m     \u001b[38;5;66;03m# to inconsistent coordinate dimensionality\u001b[39;00m\n\u001b[1;32m     97\u001b[0m     \u001b[38;5;28;01mraise\u001b[39;00m \u001b[38;5;167;01mValueError\u001b[39;00m(\u001b[38;5;124m\"\u001b[39m\u001b[38;5;124mInconsistent coordinate dimensionality\u001b[39m\u001b[38;5;124m\"\u001b[39m)\n",
                        "File \u001b[0;32m~/miniforge3/envs/tree-segment/lib/python3.12/site-packages/shapely/geometry/polygon.py:91\u001b[0m, in \u001b[0;36mLinearRing.__new__.<locals>._coords\u001b[0;34m(o)\u001b[0m\n\u001b[1;32m     89\u001b[0m     \u001b[38;5;28;01mreturn\u001b[39;00m o\u001b[38;5;241m.\u001b[39mcoords[\u001b[38;5;241m0\u001b[39m]\n\u001b[1;32m     90\u001b[0m \u001b[38;5;28;01melse\u001b[39;00m:\n\u001b[0;32m---> 91\u001b[0m     \u001b[38;5;28;01mreturn\u001b[39;00m [\u001b[38;5;28;43mfloat\u001b[39;49m\u001b[43m(\u001b[49m\u001b[43mc\u001b[49m\u001b[43m)\u001b[49m \u001b[38;5;28;01mfor\u001b[39;00m c \u001b[38;5;129;01min\u001b[39;00m o]\n",
                        "\u001b[0;31mTypeError\u001b[0m: float() argument must be a string or a real number, not 'list'"
                    ]
                }
            ],
            "source": [
                "from shapely.geometry import Polygon\n",
                "import geojson\n",
                "\n",
                "# Load your GeoJSON polygons\n",
                "print(annotations[\"features\"][0][\"geometry\"])\n",
                "polygon1 = Polygon(annotations[\"features\"][0][\"geometry\"][\"coordinates\"])\n",
                "polygon2 = Polygon(annotations[\"features\"][1][\"geometry\"][\"coordinates\"])\n",
                "\n",
                "# Convert polygons to WKT for easier manipulation\n",
                "wkt_polygon1 = polygon1.wkt\n",
                "wkt_polygon2 = polygon2.wkt\n",
                "\n",
                "# Compute the intersection\n",
                "intersection = polygon1.intersects(polygon2)\n",
                "\n",
                "print(intersection)"
            ]
        },
        {
            "cell_type": "code",
            "execution_count": null,
            "metadata": {},
            "outputs": [],
            "source": []
        }
    ],
    "metadata": {
        "kernelspec": {
            "display_name": "tree-segment",
            "language": "python",
            "name": "python3"
        },
        "language_info": {
            "codemirror_mode": {
                "name": "ipython",
                "version": 3
            },
            "file_extension": ".py",
            "mimetype": "text/x-python",
            "name": "python",
            "nbconvert_exporter": "python",
            "pygments_lexer": "ipython3",
            "version": "3.12.3"
        }
    },
    "nbformat": 4,
    "nbformat_minor": 2
}