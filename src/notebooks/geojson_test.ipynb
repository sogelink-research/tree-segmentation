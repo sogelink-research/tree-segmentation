{
    "cells": [
        {
            "cell_type": "code",
            "execution_count": null,
            "metadata": {},
            "outputs": [],
            "source": [
                "import os\n",
                "import sys\n",
                "\n",
                "# Changes the current path to find the source files\n",
                "current_dir = os.getcwd()\n",
                "while current_dir != os.path.abspath(\"../src\"):\n",
                "    os.chdir(\"..\")\n",
                "    current_dir = os.getcwd()\n",
                "sys.path.append(os.path.abspath(\"Efficient-Computing/Detection/Gold-YOLO\"))"
            ]
        },
        {
            "cell_type": "code",
            "execution_count": null,
            "metadata": {},
            "outputs": [],
            "source": [
                "import geojson\n",
                "from geojson_conversions import (\n",
                "    bboxes_to_geojson_feature_collection,\n",
                "    save_geojson,\n",
                "    open_geojson,\n",
                "    extract_bboxes_geojson,\n",
                "    merge_qgis_geojson_annotations,\n",
                "    bbox_to_geojson_polygon,\n",
                "    geojson_add_area_of_interest,\n",
                ")\n",
                "from box_cls import Box"
            ]
        },
        {
            "cell_type": "code",
            "execution_count": null,
            "metadata": {},
            "outputs": [],
            "source": [
                "file_path = \"../data/annotations/qgis/Tree.geojson\"\n",
                "label_all = \"Tree\"\n",
                "label_attribute_name = None\n",
                "\n",
                "feature_coll = open_geojson(file_path)\n",
                "assert isinstance(feature_coll, geojson.FeatureCollection)\n",
                "boxes, labels, scores, ids = extract_bboxes_geojson(\n",
                "    feature_coll, label_attribute_name, label_all=label_all\n",
                ")\n",
                "geo_features = bboxes_to_geojson_feature_collection(boxes, labels, scores, ids)\n",
                "save_geojson(geo_features, \"../geojson_test.geojson\")"
            ]
        },
        {
            "cell_type": "code",
            "execution_count": null,
            "metadata": {},
            "outputs": [],
            "source": [
                "input_path = \"../data/annotations/qgis\"\n",
                "output_path = \"../data/annotations/full/122000_484000.geojson\"\n",
                "merge_qgis_geojson_annotations(input_path, output_path)\n",
                "\n",
                "feature_coll = open_geojson(output_path)\n",
                "assert isinstance(feature_coll, geojson.FeatureCollection)\n",
                "geojson_add_area_of_interest(\n",
                "    feature_coll, bbox_to_geojson_polygon(Box(122000, 483000, 123000, 484000))\n",
                ")\n",
                "save_geojson(feature_coll, output_path)"
            ]
        },
        {
            "cell_type": "code",
            "execution_count": null,
            "metadata": {},
            "outputs": [],
            "source": [
                "from preprocessing.rgb_cir import download_rgb_image_from_polygon\n",
                "from shapely.geometry import Polygon\n",
                "\n",
                "annotations = open_geojson(output_path)\n",
                "\n",
                "download_rgb_image_from_polygon(annotations[\"bbox\"])"
            ]
        },
        {
            "cell_type": "code",
            "execution_count": null,
            "metadata": {},
            "outputs": [],
            "source": [
                "# Load your GeoJSON polygons\n",
                "print(annotations[\"features\"][0][\"geometry\"][\"coordinates\"][0])\n",
                "polygon1 = Polygon(annotations[\"features\"][0][\"geometry\"][\"coordinates\"][0])\n",
                "polygon2 = Polygon(annotations[\"features\"][1][\"geometry\"][\"coordinates\"][0])\n",
                "\n",
                "print(f\"{polygon1 = }\")\n",
                "print(f\"{polygon1.wkt = }\")\n",
                "print(f\"{polygon2 = }\")\n",
                "print(f\"{polygon2.wkt = }\")\n",
                "\n",
                "# Convert polygons to WKT for easier manipulation\n",
                "wkt_polygon1 = polygon1.wkt\n",
                "wkt_polygon2 = polygon2.wkt\n",
                "\n",
                "# Compute the intersection\n",
                "intersection = polygon1.intersects(polygon2)\n",
                "\n",
                "print(intersection)"
            ]
        }
    ],
    "metadata": {
        "kernelspec": {
            "display_name": "tree-segment",
            "language": "python",
            "name": "python3"
        },
        "language_info": {
            "codemirror_mode": {
                "name": "ipython",
                "version": 3
            },
            "file_extension": ".py",
            "mimetype": "text/x-python",
            "name": "python",
            "nbconvert_exporter": "python",
            "pygments_lexer": "ipython3",
            "version": "3.11.0"
        }
    },
    "nbformat": 4,
    "nbformat_minor": 2
}