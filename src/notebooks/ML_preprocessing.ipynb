{
 "cells": [
  {
   "cell_type": "code",
   "execution_count": 1,
   "metadata": {},
   "outputs": [],
   "source": [
    "import json\n",
    "from osgeo import gdal, ogr\n",
    "import pdal\n",
    "import os\n",
    "from tqdm.notebook import tqdm\n",
    "from PIL import Image\n",
    "import numpy as np\n",
    "import matplotlib.pyplot as plt\n",
    "from matplotlib.patches import Rectangle\n",
    "from pprint import pprint\n",
    "import laspy\n",
    "import time\n",
    "import sys\n",
    "from typing import List, Dict, Tuple\n",
    "from shapely.geometry import box\n",
    "from shapely.wkt import dumps\n",
    "import zipfile\n",
    "\n",
    "gdal.UseExceptions()\n",
    "\n",
    "# Changes the current path to find the source files\n",
    "current_dir = os.getcwd()\n",
    "while current_dir != os.path.abspath(\"../src\"):\n",
    "    os.chdir(\"..\")\n",
    "    current_dir = os.getcwd()\n",
    "\n",
    "from utils import create_all_folders, Folders, download_file\n",
    "\n",
    "create_all_folders()"
   ]
  },
  {
   "cell_type": "code",
   "execution_count": 2,
   "metadata": {},
   "outputs": [],
   "source": [
    "# Define tile size and OVERLAP\n",
    "# TILE_SIZE = 1920  # Size of each tile\n",
    "# OVERLAP = 480  # Overlap between tiles\n",
    "TILE_SIZE = 640  # Size of each tile\n",
    "OVERLAP = 0  # Overlap between tiles"
   ]
  },
  {
   "cell_type": "code",
   "execution_count": 3,
   "metadata": {},
   "outputs": [],
   "source": [
    "from utils import create_folder, get_file_base_name, open_json\n",
    "from data_processing import (\n",
    "    get_image_path_from_full_annotation_path,\n",
    "    get_cropping_limits,\n",
    ")"
   ]
  },
  {
   "cell_type": "markdown",
   "metadata": {},
   "source": [
    "### Get the cropping limits"
   ]
  },
  {
   "cell_type": "code",
   "execution_count": 4,
   "metadata": {},
   "outputs": [],
   "source": [
    "from data_processing import (\n",
    "    find_annots_repartition,\n",
    "    crop_annots_into_limits,\n",
    "    annots_coordinates_to_local,\n",
    "    save_annots_per_image,\n",
    "    crop_all_rgb_and_chm_images_from_annotations_folder,\n",
    "    ImageData,\n",
    ")\n",
    "from lidar_preprocessing import (\n",
    "    download_lidar_names_shapefile,\n",
    "    get_lidar_files_from_image,\n",
    "    download_and_remove_overlap_geotiles,\n",
    "    create_full_lidar,\n",
    ")\n",
    "from chm import compute_chm"
   ]
  },
  {
   "cell_type": "code",
   "execution_count": 5,
   "metadata": {},
   "outputs": [],
   "source": [
    "annotations_path = os.path.join(Folders.FULL_ANNOTS.value, \"10\")\n",
    "\n",
    "annotations = open_json(annotations_path)\n",
    "\n",
    "full_image_path_tif = get_image_path_from_full_annotation_path(annotations)\n",
    "\n",
    "image_data = ImageData(full_image_path_tif)"
   ]
  },
  {
   "cell_type": "code",
   "execution_count": 6,
   "metadata": {},
   "outputs": [
    {
     "name": "stdout",
     "output_type": "stream",
     "text": [
      "Download skipped.\n",
      "There is already a file at '/home/alexandre/Documents/tree-segmentation/data/lidar/geotiles/25GN1_13.LAZ'.\n",
      "Download skipped.\n",
      "There is already a file at '/home/alexandre/Documents/tree-segmentation/data/lidar/geotiles/25GN1_18.LAZ'.\n",
      "The file /home/alexandre/Documents/tree-segmentation/data/chm/8cm/unfiltered/full/122000_484000.laz already exists.\n",
      "The file /home/alexandre/Documents/tree-segmentation/data/chm/8cm/filtered/full/122000_484000.laz already exists.\n"
     ]
    }
   ],
   "source": [
    "shapefile_path = download_lidar_names_shapefile()\n",
    "\n",
    "GEOTILES_OVERLAP = 20\n",
    "intersection_file_names = get_lidar_files_from_image(\n",
    "    image_data, shapefile_path, GEOTILES_OVERLAP\n",
    ")\n",
    "intersection_file_paths = download_and_remove_overlap_geotiles(\n",
    "    intersection_file_names, GEOTILES_OVERLAP\n",
    ")\n",
    "\n",
    "full_lidar_path, full_lidar_filtered_path = create_full_lidar(\n",
    "    intersection_file_paths, image_data\n",
    ")\n",
    "\n",
    "RESOLUTION = 0.08\n",
    "\n",
    "resolution = RESOLUTION\n",
    "full_chm_path = os.path.join(\n",
    "    Folders.CHM.value,\n",
    "    f\"{round(resolution*100)}cm\",\n",
    "    \"unfiltered\",\n",
    "    \"full\",\n",
    "    f\"{image_data.coord_name}.tif\",\n",
    ")\n",
    "create_folder(os.path.dirname(full_chm_path))\n",
    "compute_chm(\n",
    "    full_lidar_path,\n",
    "    full_chm_path,\n",
    "    image_data.width_pixel,\n",
    "    image_data.height_pixel,\n",
    "    resolution,\n",
    "    verbose=True,\n",
    ")\n",
    "full_chm_filtered_path = os.path.join(\n",
    "    Folders.CHM.value,\n",
    "    f\"{round(resolution*100)}cm\",\n",
    "    \"filtered\",\n",
    "    \"full\",\n",
    "    f\"{image_data.coord_name}.tif\",\n",
    ")\n",
    "create_folder(os.path.dirname(full_chm_filtered_path))\n",
    "compute_chm(\n",
    "    full_lidar_path,\n",
    "    full_chm_filtered_path,\n",
    "    image_data.width_pixel,\n",
    "    image_data.height_pixel,\n",
    "    resolution,\n",
    "    verbose=True,\n",
    ")"
   ]
  },
  {
   "cell_type": "code",
   "execution_count": 6,
   "metadata": {},
   "outputs": [
    {
     "name": "stderr",
     "output_type": "stream",
     "text": [
      "/home/alexandre/miniforge3/envs/tree-segment/lib/python3.12/site-packages/PIL/Image.py:3218: DecompressionBombWarning: Image size (156250000 pixels) exceeds limit of 89478485 pixels, could be decompression bomb DOS attack.\n",
      "  warnings.warn(\n"
     ]
    }
   ],
   "source": [
    "cropping_limits_x, cropping_limits_y = get_cropping_limits(\n",
    "    full_image_path_tif, TILE_SIZE, OVERLAP\n",
    ")\n",
    "visibility_threshold = 0.2\n",
    "annots_repartition = find_annots_repartition(\n",
    "    cropping_limits_x, cropping_limits_y, annotations, visibility_threshold\n",
    ")\n",
    "crop_annots_into_limits(annots_repartition)\n",
    "annots_coordinates_to_local(annots_repartition)\n",
    "\n",
    "output_image_prefix = get_file_base_name(full_image_path_tif)\n",
    "annotations_output_directory = os.path.join(\n",
    "    Folders.CROPPED_ANNOTS.value, output_image_prefix\n",
    ")\n",
    "save_annots_per_image(\n",
    "    annots_repartition, annotations_output_directory, full_image_path_tif\n",
    ")\n",
    "\n",
    "images_output_directory = os.path.join(\n",
    "    Folders.CROPPED_IMAGES.value, output_image_prefix\n",
    ")\n",
    "crop_all_rgb_and_chm_images_from_annotations_folder(\n",
    "    annotations_output_directory, resolution, full_image_path_tif\n",
    ")"
   ]
  },
  {
   "cell_type": "code",
   "execution_count": null,
   "metadata": {},
   "outputs": [],
   "source": [
    "# crop_las(\n",
    "#     \"../data/lidar/unfiltered/full/122000_484000.laz\",\n",
    "#     \"../data/lidar/unfiltered/full/122000_484000_cropped.laz\",\n",
    "#     (image_data.coord_box.x_min, image_data.coord_box.x_max  - 0.9*(image_data.coord_box.x_max - image_data.coord_box.x_min)),\n",
    "#     (\n",
    "#         image_data.coord_box.y_min\n",
    "#         + 0.9 * (image_data.coord_box.y_max - image_data.coord_box.y_min),\n",
    "#         image_data.coord_box.y_max,\n",
    "#     ),\n",
    "# )"
   ]
  }
 ],
 "metadata": {
  "kernelspec": {
   "display_name": "tree-segment",
   "language": "python",
   "name": "python3"
  },
  "language_info": {
   "codemirror_mode": {
    "name": "ipython",
    "version": 3
   },
   "file_extension": ".py",
   "mimetype": "text/x-python",
   "name": "python",
   "nbconvert_exporter": "python",
   "pygments_lexer": "ipython3",
   "version": "3.12.3"
  }
 },
 "nbformat": 4,
 "nbformat_minor": 2
}
