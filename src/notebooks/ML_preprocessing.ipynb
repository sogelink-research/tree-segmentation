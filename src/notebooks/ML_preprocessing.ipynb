{
    "cells": [
        {
            "cell_type": "code",
            "execution_count": 1,
            "metadata": {},
            "outputs": [],
            "source": [
                "import os\n",
                "\n",
                "# Changes the current path to find the source files\n",
                "\n",
                "current_dir = os.getcwd()\n",
                "while current_dir != os.path.abspath(\"../src\"):\n",
                "    os.chdir(\"..\")\n",
                "    current_dir = os.getcwd()"
            ]
        },
        {
            "cell_type": "code",
            "execution_count": 2,
            "metadata": {},
            "outputs": [],
            "source": [
                "from utils import create_all_folders, Folders\n",
                "\n",
                "create_all_folders()"
            ]
        },
        {
            "cell_type": "markdown",
            "metadata": {},
            "source": [
                "### Get the cropping limits"
            ]
        },
        {
            "cell_type": "code",
            "execution_count": 3,
            "metadata": {},
            "outputs": [],
            "source": [
                "from utils import create_folder, get_file_base_name\n",
                "from geojson_conversions import open_geojson_feature_collection\n",
                "\n",
                "from data_processing import (\n",
                "    find_annots_repartition,\n",
                "    crop_annots_into_limits,\n",
                "    annots_coordinates_to_local,\n",
                "    save_annots_per_image,\n",
                "    crop_all_rgb_and_chm_images_from_annotations_folder,\n",
                "    ImageData,\n",
                "    get_cropping_limits,\n",
                ")\n",
                "from lidar_preprocessing import (\n",
                "    download_lidar_names_shapefile,\n",
                "    get_lidar_files_from_image,\n",
                "    download_and_remove_overlap_geotiles,\n",
                "    create_full_lidar,\n",
                ")\n",
                "from rgb_preprocessing import download_rgb_image_from_polygon\n",
                "from chm import compute_chm\n",
                "import geojson"
            ]
        },
        {
            "cell_type": "code",
            "execution_count": 4,
            "metadata": {},
            "outputs": [],
            "source": [
                "# Define tile size and OVERLAP\n",
                "# TILE_SIZE = 1920  # Size of each tile\n",
                "# OVERLAP = 480  # Overlap between tiles\n",
                "TILE_SIZE = 640  # Size of each tile\n",
                "OVERLAP = 0  # Overlap between tiles"
            ]
        },
        {
            "cell_type": "code",
            "execution_count": 5,
            "metadata": {},
            "outputs": [],
            "source": [
                "# Annotations file to use:\n",
                "\n",
                "annotations_file_name = \"122000_484000.geojson\""
            ]
        },
        {
            "cell_type": "code",
            "execution_count": 6,
            "metadata": {},
            "outputs": [
                {
                    "name": "stdout",
                    "output_type": "stream",
                    "text": [
                        "122000.0\n",
                        "483000.0\n",
                        "Download skipped: there is already a file at '/home/alexandre/Documents/tree-segmentation/data/images/full/2023_122000_484000_RGB_hrl.tif'.\n"
                    ]
                }
            ],
            "source": [
                "annotations_path = os.path.join(Folders.FULL_ANNOTS.value, annotations_file_name)\n",
                "\n",
                "annotations = open_geojson_feature_collection(annotations_path)\n",
                "\n",
                "full_image_path_tif = download_rgb_image_from_polygon(annotations[\"bbox\"])[0]"
            ]
        },
        {
            "cell_type": "code",
            "execution_count": null,
            "metadata": {},
            "outputs": [],
            "source": [
                "image_data = ImageData(full_image_path_tif)\n",
                "\n",
                "shapefile_path = download_lidar_names_shapefile()\n",
                "\n",
                "GEOTILES_OVERLAP = 20\n",
                "intersection_file_names = get_lidar_files_from_image(\n",
                "    image_data, shapefile_path, GEOTILES_OVERLAP\n",
                ")\n",
                "intersection_file_paths = download_and_remove_overlap_geotiles(\n",
                "    intersection_file_names, GEOTILES_OVERLAP\n",
                ")\n",
                "\n",
                "full_lidar_path, full_lidar_filtered_path = create_full_lidar(\n",
                "    intersection_file_paths, image_data\n",
                ")\n",
                "\n",
                "RESOLUTION = 0.08\n",
                "\n",
                "resolution = RESOLUTION\n",
                "full_chm_path = os.path.join(\n",
                "    Folders.CHM.value,\n",
                "    f\"{round(resolution*100)}cm\",\n",
                "    \"unfiltered\",\n",
                "    \"full\",\n",
                "    f\"{image_data.coord_name}.tif\",\n",
                ")\n",
                "create_folder(os.path.dirname(full_chm_path))\n",
                "compute_chm(\n",
                "    full_lidar_path,\n",
                "    full_chm_path,\n",
                "    image_data.width_pixel,\n",
                "    image_data.height_pixel,\n",
                "    resolution,\n",
                "    verbose=True,\n",
                ")\n",
                "full_chm_filtered_path = os.path.join(\n",
                "    Folders.CHM.value,\n",
                "    f\"{round(resolution*100)}cm\",\n",
                "    \"filtered\",\n",
                "    \"full\",\n",
                "    f\"{image_data.coord_name}.tif\",\n",
                ")\n",
                "create_folder(os.path.dirname(full_chm_filtered_path))\n",
                "compute_chm(\n",
                "    full_lidar_path,\n",
                "    full_chm_filtered_path,\n",
                "    image_data.width_pixel,\n",
                "    image_data.height_pixel,\n",
                "    resolution,\n",
                "    verbose=True,\n",
                ")"
            ]
        },
        {
            "cell_type": "code",
            "execution_count": null,
            "metadata": {},
            "outputs": [],
            "source": [
                "cropping_limits_x, cropping_limits_y = get_cropping_limits(\n",
                "    full_image_path_tif, TILE_SIZE, OVERLAP\n",
                ")\n",
                "visibility_threshold = 0.2\n",
                "annots_repartition = find_annots_repartition(\n",
                "    cropping_limits_x, cropping_limits_y, annotations, image_data, visibility_threshold\n",
                ")\n",
                "crop_annots_into_limits(annots_repartition)\n",
                "annots_coordinates_to_local(annots_repartition)\n",
                "\n",
                "output_image_prefix = get_file_base_name(full_image_path_tif)\n",
                "annotations_output_directory = os.path.join(\n",
                "    Folders.CROPPED_ANNOTS.value, output_image_prefix\n",
                ")\n",
                "save_annots_per_image(\n",
                "    annots_repartition, annotations_output_directory, full_image_path_tif\n",
                ")\n",
                "\n",
                "images_output_directory = os.path.join(\n",
                "    Folders.CROPPED_IMAGES.value, output_image_prefix\n",
                ")\n",
                "crop_all_rgb_and_chm_images_from_annotations_folder(\n",
                "    annotations_output_directory, resolution, full_image_path_tif\n",
                ")"
            ]
        }
    ],
    "metadata": {
        "kernelspec": {
            "display_name": "tree-segment",
            "language": "python",
            "name": "python3"
        },
        "language_info": {
            "codemirror_mode": {
                "name": "ipython",
                "version": 3
            },
            "file_extension": ".py",
            "mimetype": "text/x-python",
            "name": "python",
            "nbconvert_exporter": "python",
            "pygments_lexer": "ipython3",
            "version": "3.12.3"
        }
    },
    "nbformat": 4,
    "nbformat_minor": 2
}
