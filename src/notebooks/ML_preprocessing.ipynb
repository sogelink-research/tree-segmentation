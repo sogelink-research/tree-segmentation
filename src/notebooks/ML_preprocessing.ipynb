{
    "cells": [
        {
            "cell_type": "code",
            "execution_count": 1,
            "metadata": {},
            "outputs": [],
            "source": [
                "import os\n",
                "\n",
                "# Changes the current path to find the source files\n",
                "\n",
                "current_dir = os.getcwd()\n",
                "while current_dir != os.path.abspath(\"../src\"):\n",
                "    os.chdir(\"..\")\n",
                "    current_dir = os.getcwd()"
            ]
        },
        {
            "cell_type": "code",
            "execution_count": 2,
            "metadata": {},
            "outputs": [],
            "source": [
                "from utils import create_all_folders, Folders\n",
                "\n",
                "create_all_folders()"
            ]
        },
        {
            "cell_type": "markdown",
            "metadata": {},
            "source": [
                "### Get the cropping limits"
            ]
        },
        {
            "cell_type": "code",
            "execution_count": 3,
            "metadata": {},
            "outputs": [],
            "source": [
                "from utils import create_folder, get_file_base_name\n",
                "from geojson_conversions import open_geojson_feature_collection\n",
                "\n",
                "from preprocessing.data import (\n",
                "    find_annots_repartition,\n",
                "    crop_annots_into_limits,\n",
                "    annots_coordinates_to_local,\n",
                "    save_annots_per_image,\n",
                "    crop_all_images_from_annotations_folder,\n",
                "    ImageData,\n",
                "    get_cropping_limits,\n",
                "    merge_tif,\n",
                ")\n",
                "from preprocessing.lidar import (\n",
                "    download_lidar_names_shapefile,\n",
                "    get_lidar_files_from_image,\n",
                "    download_and_remove_overlap_geotiles,\n",
                "    create_full_lidar,\n",
                ")\n",
                "from preprocessing.rgb_cir import download_rgb_image_from_polygon, download_cir\n",
                "from preprocessing.chm import compute_slices_chm\n",
                "import numpy as np"
            ]
        },
        {
            "cell_type": "code",
            "execution_count": 4,
            "metadata": {},
            "outputs": [],
            "source": [
                "# Define tile size and OVERLAP\n",
                "# TILE_SIZE = 1920  # Size of each tile\n",
                "# OVERLAP = 480  # Overlap between tiles\n",
                "TILE_SIZE = 640  # Size of each tile\n",
                "OVERLAP = 0  # Overlap between tiles"
            ]
        },
        {
            "cell_type": "code",
            "execution_count": 5,
            "metadata": {},
            "outputs": [],
            "source": [
                "# Annotations file to use:\n",
                "\n",
                "annotations_file_name = \"122000_484000.geojson\""
            ]
        },
        {
            "cell_type": "code",
            "execution_count": 6,
            "metadata": {},
            "outputs": [
                {
                    "name": "stdout",
                    "output_type": "stream",
                    "text": [
                        "Download skipped: there is already a file at 'c:\\Users\\alexandreb\\Documents\\tree-segmentation\\data\\images\\rgb\\full\\2023_122000_484000_RGB_hrl.tif'.\n"
                    ]
                }
            ],
            "source": [
                "annotations_path = os.path.join(Folders.FULL_ANNOTS.value, annotations_file_name)\n",
                "\n",
                "annotations = open_geojson_feature_collection(annotations_path)\n",
                "\n",
                "full_image_path_tif = download_rgb_image_from_polygon(annotations[\"bbox\"])[0]"
            ]
        },
        {
            "cell_type": "code",
            "execution_count": 7,
            "metadata": {},
            "outputs": [
                {
                    "name": "stdout",
                    "output_type": "stream",
                    "text": [
                        "Download skipped: there is already a file at 'c:\\Users\\alexandreb\\Documents\\tree-segmentation\\data\\lidar\\geotiles\\25GN1_13.LAZ'.\n",
                        "Download skipped: there is already a file at 'c:\\Users\\alexandreb\\Documents\\tree-segmentation\\data\\lidar\\geotiles\\25GN1_18.LAZ'.\n",
                        "Running compute_slices_chm... Execution time: 0.0000 seconds\n",
                        "Running download_cir... Execution time: 0.0000 seconds\n"
                    ]
                }
            ],
            "source": [
                "from typing import Sequence\n",
                "\n",
                "\n",
                "image_data = ImageData(full_image_path_tif)\n",
                "\n",
                "shapefile_path = download_lidar_names_shapefile()\n",
                "\n",
                "GEOTILES_OVERLAP = 20\n",
                "intersection_file_names = get_lidar_files_from_image(image_data, shapefile_path, GEOTILES_OVERLAP)\n",
                "intersection_file_paths = download_and_remove_overlap_geotiles(\n",
                "    intersection_file_names, GEOTILES_OVERLAP\n",
                ")\n",
                "\n",
                "full_lidar_path, full_lidar_filtered_path = create_full_lidar(intersection_file_paths, image_data)\n",
                "\n",
                "RESOLUTION = 0.08\n",
                "\n",
                "resolution = RESOLUTION\n",
                "\n",
                "z_tops: Sequence[float] = [1, 2, 3, 5, 7, 10, 15, 20, np.inf]\n",
                "z_limits_list = [(-np.inf, z_top) for z_top in z_tops]\n",
                "full_chm_filtered_paths = [\n",
                "    os.path.join(\n",
                "        Folders.CHM.value,\n",
                "        f\"{round(resolution*100)}cm\",\n",
                "        \"filtered\",\n",
                "        f\"{str(bottom)}_{str(top)}\",\n",
                "        \"full\",\n",
                "        f\"{image_data.coord_name}.tif\",\n",
                "    )\n",
                "    for (bottom, top) in z_limits_list\n",
                "]\n",
                "for folder_path in full_chm_filtered_paths:\n",
                "    create_folder(os.path.dirname(folder_path))\n",
                "compute_slices_chm(\n",
                "    laz_file_name=full_lidar_path,\n",
                "    output_tif_paths=full_chm_filtered_paths,\n",
                "    resolution=resolution,\n",
                "    z_limits_list=z_limits_list,\n",
                "    skip_if_file_exists=True,\n",
                ")\n",
                "\n",
                "cir_full_image_path = os.path.join(Folders.FULL_CIR_IMAGES.value, f\"{image_data.base_name}.tif\")\n",
                "download_cir(\n",
                "    image_coords_box=image_data.coord_box,\n",
                "    resolution=resolution,\n",
                "    skip_if_file_exists=True,\n",
                "    save_path=cir_full_image_path,\n",
                ")\n",
                "\n",
                "full_images_folders_paths = [\n",
                "    os.path.dirname(folder_path) for folder_path in full_chm_filtered_paths\n",
                "]\n",
                "full_images_folders_paths.append(os.path.dirname(image_data.path))\n",
                "full_images_folders_paths.append(os.path.dirname(cir_full_image_path))"
            ]
        },
        {
            "cell_type": "code",
            "execution_count": 8,
            "metadata": {},
            "outputs": [
                {
                    "name": "stderr",
                    "output_type": "stream",
                    "text": [
                        "c:\\Users\\alexandreb\\AppData\\Local\\miniconda3\\envs\\tree-segment\\Lib\\site-packages\\PIL\\Image.py:3218: DecompressionBombWarning: Image size (156250000 pixels) exceeds limit of 89478485 pixels, could be decompression bomb DOS attack.\n",
                        "  warnings.warn(\n"
                    ]
                },
                {
                    "data": {
                        "application/vnd.jupyter.widget-view+json": {
                            "model_id": "64e3007379b3492ca5e00c784887e664",
                            "version_major": 2,
                            "version_minor": 0
                        },
                        "text/plain": [
                            "VBox(children=(Placing: Bounding boxes::   0%|          | 0/2671 [00:00<?, ?it/s],))"
                        ]
                    },
                    "metadata": {},
                    "output_type": "display_data"
                },
                {
                    "data": {
                        "application/vnd.jupyter.widget-view+json": {
                            "model_id": "77edc8be31dc4e03953e4e17ac741e30",
                            "version_major": 2,
                            "version_minor": 0
                        },
                        "text/plain": [
                            "VBox(children=(Cropping: Bounding boxes:   0%|          | 0/241 [00:00<?, ?it/s],))"
                        ]
                    },
                    "metadata": {},
                    "output_type": "display_data"
                },
                {
                    "data": {
                        "application/vnd.jupyter.widget-view+json": {
                            "model_id": "6b132aa913df47b08d7412a0636ad8f2",
                            "version_major": 2,
                            "version_minor": 0
                        },
                        "text/plain": [
                            "VBox(children=(To local: Bounding boxes:   0%|          | 0/241 [00:00<?, ?it/s],))"
                        ]
                    },
                    "metadata": {},
                    "output_type": "display_data"
                },
                {
                    "data": {
                        "application/vnd.jupyter.widget-view+json": {
                            "model_id": "923bbdc438f946bcbaf8753db95a684b",
                            "version_major": 2,
                            "version_minor": 0
                        },
                        "text/plain": [
                            "VBox(children=(Saving annotations: Bounding boxes:   0%|          | 0/241 [00:00<?, ?it/s],))"
                        ]
                    },
                    "metadata": {},
                    "output_type": "display_data"
                },
                {
                    "data": {
                        "application/vnd.jupyter.widget-view+json": {
                            "model_id": "eac2afd6a81341358ea038eb3f26787a",
                            "version_major": 2,
                            "version_minor": 0
                        },
                        "text/plain": [
                            "VBox(children=(Cropping images: Cropped annotations:   0%|          | 0/241 [00:00<?, ?it/s],))"
                        ]
                    },
                    "metadata": {},
                    "output_type": "display_data"
                },
                {
                    "data": {
                        "application/vnd.jupyter.widget-view+json": {
                            "model_id": "4c43ec0818dc426899d5bb00a15652a0",
                            "version_major": 2,
                            "version_minor": 0
                        },
                        "text/plain": [
                            "VBox(children=(Merging TIFs:   0%|          | 0/241 [00:00<?, ?it/s],))"
                        ]
                    },
                    "metadata": {},
                    "output_type": "display_data"
                },
                {
                    "data": {
                        "application/vnd.jupyter.widget-view+json": {
                            "model_id": "41b9a445f49b4ba4b483e274d85b3098",
                            "version_major": 2,
                            "version_minor": 0
                        },
                        "text/plain": [
                            "VBox(children=(Merging TIFs:   0%|          | 0/241 [00:00<?, ?it/s],))"
                        ]
                    },
                    "metadata": {},
                    "output_type": "display_data"
                }
            ],
            "source": [
                "from utils import get_files_in_folders\n",
                "\n",
                "\n",
                "cropping_limits_x, cropping_limits_y = get_cropping_limits(full_image_path_tif, TILE_SIZE, OVERLAP)\n",
                "\n",
                "visibility_threshold = 0.2\n",
                "annots_repartition = find_annots_repartition(\n",
                "    cropping_limits_x, cropping_limits_y, annotations, image_data, visibility_threshold\n",
                ")\n",
                "\n",
                "crop_annots_into_limits(annots_repartition)\n",
                "annots_coordinates_to_local(annots_repartition)\n",
                "\n",
                "\n",
                "output_image_prefix = get_file_base_name(full_image_path_tif)\n",
                "\n",
                "annotations_output_directory = os.path.join(Folders.CROPPED_ANNOTS.value, output_image_prefix)\n",
                "save_annots_per_image(\n",
                "    annots_repartition,\n",
                "\n",
                "    annotations_output_directory,\n",
                "    full_image_path_tif,\n",
                "\n",
                "    clear_if_not_empty=True,\n",
                ")\n",
                "\n",
                "\n",
                "\n",
                "images_output_directory = os.path.join(Folders.CROPPED_RGB_IMAGES.value, output_image_prefix)\n",
                "full_images_paths = get_files_in_folders(full_images_folders_paths)\n",
                "output_cropped_images_folders_paths = [\n",
                "    os.path.splitext(full_image_path.replace(\"full\", \"cropped\"))[0]\n",
                "    for full_image_path in full_images_paths\n",
                "]\n",
                "\n",
                "\n",
                "cropped_images_folders_paths = crop_all_images_from_annotations_folder(\n",
                "    annotations_output_directory,\n",
                "    output_cropped_images_folders_paths=output_cropped_images_folders_paths,\n",
                "    full_images_folders_paths=full_images_folders_paths,\n",
                "    clear_if_not_empty=False,\n",
                "    remove_unused=True,\n",
                ")\n",
                "\n",
                "\n",
                "\n",
                "cropped_chms_folders_paths = [\n",
                "    folder_path for folder_path in cropped_images_folders_paths if Folders.CHM.value in folder_path\n",
                "]\n",
                "\n",
                "\n",
                "merge_tif(cropped_chms_folders_paths)\n",
                "\n",
                "\n",
                "cropped_rgb_cir_folders_paths = [\n",
                "    folder_path\n",
                "    for folder_path in cropped_images_folders_paths\n",
                "\n",
                "    if Folders.IMAGES.value in folder_path\n",
                "]\n",
                "\n",
                "\n",
                "merge_tif(cropped_rgb_cir_folders_paths)"
            ]
        }
    ],
    "metadata": {
        "kernelspec": {
            "display_name": "tree-segment",
            "language": "python",
            "name": "python3"
        },
        "language_info": {
            "codemirror_mode": {
                "name": "ipython",
                "version": 3
            },
            "file_extension": ".py",
            "mimetype": "text/x-python",
            "name": "python",
            "nbconvert_exporter": "python",
            "pygments_lexer": "ipython3",
            "version": "3.11.9"
        }
    },
    "nbformat": 4,
    "nbformat_minor": 2
}
