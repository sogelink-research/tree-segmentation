{
 "cells": [
  {
   "cell_type": "code",
   "execution_count": 4,
   "metadata": {},
   "outputs": [],
   "source": [
    "import json\n",
    "from osgeo import gdal\n",
    "import pdal\n",
    "import os\n",
    "from tqdm.notebook import tqdm\n",
    "from PIL import Image\n",
    "import numpy as np\n",
    "import matplotlib.pyplot as plt\n",
    "from matplotlib.patches import Rectangle\n",
    "from pprint import pprint\n",
    "import laspy\n",
    "import time\n",
    "import sys\n",
    "\n",
    "gdal.UseExceptions()\n",
    "\n",
    "# Changes the current path to find the source files\n",
    "current_dir = os.getcwd()\n",
    "while current_dir != os.path.abspath(\"../src\"):\n",
    "    os.chdir(\"..\")\n",
    "    current_dir = os.getcwd()\n",
    "\n",
    "from utils import create_all_folders, Folders\n",
    "\n",
    "create_all_folders()"
   ]
  },
  {
   "cell_type": "code",
   "execution_count": 2,
   "metadata": {},
   "outputs": [],
   "source": [
    "# Define tile size and OVERLAP\n",
    "# TILE_SIZE = 1920  # Size of each tile\n",
    "# OVERLAP = 480  # Overlap between tiles\n",
    "TILE_SIZE = 640  # Size of each tile\n",
    "OVERLAP = 0  # Overlap between tiles"
   ]
  },
  {
   "cell_type": "code",
   "execution_count": 3,
   "metadata": {},
   "outputs": [],
   "source": [
    "from utils import create_folder, get_file_base_name, open_json\n",
    "from data_processing import (\n",
    "    get_image_path_from_full_annotation_path,\n",
    "    get_cropping_limits,\n",
    ")"
   ]
  },
  {
   "cell_type": "markdown",
   "metadata": {},
   "source": [
    "### Get the cropping limits"
   ]
  },
  {
   "cell_type": "code",
   "execution_count": 10,
   "metadata": {},
   "outputs": [],
   "source": [
    "from data_processing import (\n",
    "    find_annots_repartition,\n",
    "    crop_annots_into_limits,\n",
    "    annots_coordinates_to_local,\n",
    "    save_annots_per_image,\n",
    "    crop_all_images_from_annotations_folder,\n",
    ")"
   ]
  },
  {
   "cell_type": "code",
   "execution_count": 12,
   "metadata": {},
   "outputs": [],
   "source": [
    "annotations_path = Folders.FULL_ANNOTS.value + \"3\"\n",
    "\n",
    "from chm import compute_chm\n",
    "\n",
    "\n",
    "# Put everything below in a function and add also the creation of the full point cloud\n",
    "# def preprocess_data(annotations_path: str) -> None:\n",
    "\n",
    "annotations = open_json(annotations_path)\n",
    "\n",
    "full_image_path_tif = get_image_path_from_full_annotation_path(annotations)\n",
    "\n",
    "cropping_limits_x, cropping_limits_y = get_cropping_limits(\n",
    "    full_image_path_tif, TILE_SIZE, OVERLAP\n",
    ")\n",
    "visibility_threshold = 0.2\n",
    "annots_repartition = find_annots_repartition(\n",
    "    cropping_limits_x, cropping_limits_y, annotations, visibility_threshold\n",
    ")\n",
    "crop_annots_into_limits(annots_repartition)\n",
    "annots_coordinates_to_local(annots_repartition)\n",
    "\n",
    "output_image_prefix = get_file_base_name(full_image_path_tif)\n",
    "annotations_output_directory = os.path.join(\n",
    "    Folders.CROPPED_ANNOTS.value, output_image_prefix\n",
    ")\n",
    "save_annots_per_image(\n",
    "    annots_repartition, annotations_output_directory, full_image_path_tif\n",
    ")\n",
    "\n",
    "images_output_directory = os.path.join(\n",
    "    Folders.CROPPED_IMAGES.value, output_image_prefix\n",
    ")\n",
    "crop_all_images_from_annotations_folder(\n",
    "    annotations_output_directory, images_output_directory\n",
    ")"
   ]
  }
 ],
 "metadata": {
  "kernelspec": {
   "display_name": "tree-segment",
   "language": "python",
   "name": "python3"
  },
  "language_info": {
   "codemirror_mode": {
    "name": "ipython",
    "version": 3
   },
   "file_extension": ".py",
   "mimetype": "text/x-python",
   "name": "python",
   "nbconvert_exporter": "python",
   "pygments_lexer": "ipython3",
   "version": "3.12.3"
  }
 },
 "nbformat": 4,
 "nbformat_minor": 2
}
