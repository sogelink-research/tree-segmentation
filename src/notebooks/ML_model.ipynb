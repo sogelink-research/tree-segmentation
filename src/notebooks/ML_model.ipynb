{
 "cells": [
  {
   "cell_type": "code",
   "execution_count": 1,
   "metadata": {},
   "outputs": [],
   "source": [
    "import os\n",
    "import sys\n",
    "\n",
    "# Changes the current path to find the source files\n",
    "current_dir = os.getcwd()\n",
    "while current_dir != os.path.abspath(\"../src\"):\n",
    "    os.chdir(\"..\")\n",
    "    current_dir = os.getcwd()\n",
    "sys.path.append(os.path.abspath(\"ultralytics\"))"
   ]
  },
  {
   "cell_type": "code",
   "execution_count": 2,
   "metadata": {},
   "outputs": [],
   "source": [
    "import torch\n",
    "import torch.nn as nn\n",
    "import cv2\n",
    "import json\n",
    "from ultralytics.models.yolo.model import YOLO"
   ]
  },
  {
   "cell_type": "code",
   "execution_count": 6,
   "metadata": {},
   "outputs": [
    {
     "name": "stdout",
     "output_type": "stream",
     "text": [
      "tensor([-0.0459,  0.0978,  0.1469])\n",
      "torch.Size([48, 3, 3, 3])\n",
      "torch.Size([48, 5, 3, 3])\n",
      "tensor([0.1102, 0.1147, 0.0141])\n"
     ]
    }
   ],
   "source": [
    "from layers import YOLOv8Backbone\n",
    "from ultralytics.models.yolo.model import YOLO\n",
    "\n",
    "# yolo_model = YOLO()\n",
    "\n",
    "model = YOLOv8Backbone(\"m\", 5)\n",
    "\n",
    "print(model.state_dict()[\"conv1.conv.weight\"][0, 0, 0])\n",
    "\n",
    "model.load_from_yolo_original(first_conv=\"average\")\n",
    "# model.load_from_real_state()\n",
    "        \n",
    "print(model.state_dict()[\"conv1.conv.weight\"][0, 0, 0])\n",
    "\n",
    "model.save_real_state()"
   ]
  }
 ],
 "metadata": {
  "kernelspec": {
   "display_name": "tree-segment",
   "language": "python",
   "name": "python3"
  },
  "language_info": {
   "codemirror_mode": {
    "name": "ipython",
    "version": 3
   },
   "file_extension": ".py",
   "mimetype": "text/x-python",
   "name": "python",
   "nbconvert_exporter": "python",
   "pygments_lexer": "ipython3",
   "version": "3.12.3"
  }
 },
 "nbformat": 4,
 "nbformat_minor": 2
}
